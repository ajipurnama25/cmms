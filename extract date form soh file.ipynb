{
 "cells": [
  {
   "cell_type": "code",
   "execution_count": null,
   "id": "d1a6687e",
   "metadata": {},
   "outputs": [],
   "source": [
    "# !pip install psycopg2-binary\n",
    "# import psycopg2"
   ]
  },
  {
   "cell_type": "code",
   "execution_count": null,
   "id": "34d801e5",
   "metadata": {},
   "outputs": [
    {
     "name": "stdout",
     "output_type": "stream",
     "text": [
      "Berhasil terhubung ke database PostgreSQL\n"
     ]
    }
   ],
   "source": [
    "import psycopg2\n",
    "db_config = {\n",
    "#    'host': '192.168.0.21',\n",
    "    'host': '192.168.0.21',\n",
    "    'database': 'wms_legacy',\n",
    "    'user': 'postgres',\n",
    "    'password': 'iTc3D3A24#24',\n",
    "    'port': '5432'  # Port default PostgreSQL adalah 5432\n",
    "}\n",
    "\n",
    "# Membuat koneksi ke database\n",
    "try:\n",
    "    connection = psycopg2.connect(**db_config)\n",
    "    cursor = connection.cursor()\n",
    "    print(\"Berhasil terhubung ke database PostgreSQL\")\n",
    "\n",
    "    # Lakukan operasi database di sini...\n",
    "\n",
    "except (Exception, psycopg2.Error) as error:\n",
    "    print(\"Error saat terhubung ke database PostgreSQL:\", error)"
   ]
  },
  {
   "cell_type": "code",
   "execution_count": null,
   "id": "f75139cb",
   "metadata": {},
   "outputs": [
    {
     "name": "stdout",
     "output_type": "stream",
     "text": [
      "File: STOCKM_C011_20240123.xlsx, Date: 2024-01-23 00:00:00\n",
      "File: STOCKM_C011_20240124.xlsx, Date: 2024-01-24 00:00:00\n"
     ]
    }
   ],
   "source": [
    "import re\n",
    "import pandas as pd\n",
    "\n",
    "file_names = ['STOCKM_C011_20240123.xlsx', 'STOCKM_C011_20240124.xlsx']\n",
    "\n",
    "def extract_date_from_filename(file_name):\n",
    "    match = re.search(r'_(\\d{8})\\.xlsx', file_name)\n",
    "    if match:\n",
    "        date_str = match.group(1)\n",
    "        return pd.to_datetime(date_str, format='%Y%m%d')\n",
    "    else:\n",
    "        return None\n",
    "\n",
    "for file_name in file_names:\n",
    "    date = extract_date_from_filename(file_name)\n",
    "    print(f\"File: {file_name}, Date: {date}\")\n"
   ]
  },
  {
   "cell_type": "code",
   "execution_count": null,
   "id": "e420c3c7",
   "metadata": {},
   "outputs": [],
   "source": [
    "# conect to ftp and postgres\n",
    "# specific folder and file in you want\n",
    "# Read Excel file directly from FTP and check the field from data\n",
    "# upload data to postgres\n",
    "# extract date form soh file\n",
    "# query distinct tgl_import date from locaton history\n",
    "# find mising date\n",
    "# run script to append new date data\n",
    "# create view KA today where tgl_import date = today\n",
    "# determine comment columns date ka soh and wms location"
   ]
  },
  {
   "cell_type": "markdown",
   "id": "6d1fc00c",
   "metadata": {},
   "source": [
    "Connect to ftp and postgres"
   ]
  },
  {
   "cell_type": "code",
   "execution_count": 7,
   "id": "e844bf02",
   "metadata": {},
   "outputs": [
    {
     "data": {
      "text/plain": [
       "'230 User c011 logged in.'"
      ]
     },
     "execution_count": 7,
     "metadata": {},
     "output_type": "execute_result"
    }
   ],
   "source": [
    "from ftplib import FTP\n",
    "import psycopg2\n",
    "import pandas as pd\n",
    "import re, os\n",
    "from io import BytesIO\n",
    "from zipfile import ZipFile\n",
    "from sqlalchemy import create_engine\n",
    "import math\n",
    "# from openpyxl import load_workbook\n",
    "\n",
    "# Replace these values with your FTP server details\n",
    "ftp_server ='order.kacoldstorage.com'\n",
    "username = 'c011'\n",
    "password = '110c'\n",
    "\n",
    "# pg_host = 'localhost'\n",
    "# pg_database = 'Belajar'\n",
    "# pg_user = 'postgres'\n",
    "# pg_password = 'pgsql'\n",
    "# pg_port = '5432'\n",
    "\n",
    "pg_host = '192.168.0.21'\n",
    "pg_database = 'wms_legacy'\n",
    "pg_user = 'postgres'\n",
    "pg_password = 'iTc3D3A24#24'\n",
    "pg_port = '5432'\n",
    "\n",
    "\n",
    "# Connect to the FTP server\n",
    "ftp = FTP(ftp_server)\n",
    "ftp.login(username, password)"
   ]
  },
  {
   "cell_type": "markdown",
   "id": "4f12547f",
   "metadata": {},
   "source": [
    "specific folder and file in you want"
   ]
  },
  {
   "cell_type": "code",
   "execution_count": 8,
   "id": "bf048cb1",
   "metadata": {},
   "outputs": [
    {
     "name": "stdout",
     "output_type": "stream",
     "text": [
      "Files in 'Report/1 SOH': ['STOCKM_C011_20240131.xlsx']\n"
     ]
    }
   ],
   "source": [
    "\n",
    "# Navigate to a specific folder (replace 'target_folder' with the desired folder)\n",
    "target_folder = 'Report/1 SOH'\n",
    "ftp.cwd(target_folder)\n",
    "\n",
    "# List the files in the current folder\n",
    "file_list = ftp.nlst('STOCKM_C011_20240131.xlsx')\n",
    "print(f\"Files in '{target_folder}': {file_list}\")\n",
    "\n",
    "\n"
   ]
  },
  {
   "cell_type": "markdown",
   "id": "d5fdc606",
   "metadata": {},
   "source": [
    "Read Excel file directly from FTP and check the field from data"
   ]
  },
  {
   "cell_type": "code",
   "execution_count": 9,
   "id": "1b56417b",
   "metadata": {},
   "outputs": [
    {
     "name": "stdout",
     "output_type": "stream",
     "text": [
      "Index(['TGL_IMPORT', '_GROUP', '_LOCATION', '_PLU_VTL', '_PLU_CUST',\n",
      "       '_DESCRIPTION', '_UNIT', '_PACK', 'CF', '_F_PALLET', 'SOH', '_S_AVA',\n",
      "       '_COMM', 'SOH_CAR', '_S_AVA_CAR', '_COMM_CAR', 'SOH_KG', '_S_AVA_KG',\n",
      "       '_COMM_KG', '_LOT', '_TRANSC', '_REFF', '_EXP_DATE', '_WHS',\n",
      "       '_CATEGORY', '_MPA_GROUP', 'BATCH', '_GROSS_WEIGHT', '_NET_WEIGHT',\n",
      "       '_ROOM', '_SUB_GROUP', '_USAGE', '_SIZE', '_SUB_USAGE', '_DESC_USAGE',\n",
      "       '_LOC_MAX', '_REASON_LOCK', 'EXTERNAL_ORDER_NUMBER'],\n",
      "      dtype='object')\n"
     ]
    }
   ],
   "source": [
    "# Read Excel file directly from FTP\n",
    "from openpyxl import load_workbook\n",
    "\n",
    "with BytesIO() as file_buffer:\n",
    "    ftp.retrbinary('RETR ' + file_list[0], file_buffer.write)\n",
    "    file_buffer.seek(0)\n",
    "\n",
    "    # Read Excel file using pandas\n",
    "    df = pd.read_excel(file_buffer, engine='openpyxl')\n",
    "    cek = df.columns\n",
    "    print(cek)"
   ]
  },
  {
   "cell_type": "code",
   "execution_count": 10,
   "id": "06402e16",
   "metadata": {},
   "outputs": [
    {
     "data": {
      "text/html": [
       "<div>\n",
       "<style scoped>\n",
       "    .dataframe tbody tr th:only-of-type {\n",
       "        vertical-align: middle;\n",
       "    }\n",
       "\n",
       "    .dataframe tbody tr th {\n",
       "        vertical-align: top;\n",
       "    }\n",
       "\n",
       "    .dataframe thead th {\n",
       "        text-align: right;\n",
       "    }\n",
       "</style>\n",
       "<table border=\"1\" class=\"dataframe\">\n",
       "  <thead>\n",
       "    <tr style=\"text-align: right;\">\n",
       "      <th></th>\n",
       "      <th>TGL_IMPORT</th>\n",
       "      <th>_GROUP</th>\n",
       "      <th>_LOCATION</th>\n",
       "      <th>_PLU_VTL</th>\n",
       "      <th>_PLU_CUST</th>\n",
       "      <th>_DESCRIPTION</th>\n",
       "      <th>_UNIT</th>\n",
       "      <th>_PACK</th>\n",
       "      <th>CF</th>\n",
       "      <th>_F_PALLET</th>\n",
       "      <th>...</th>\n",
       "      <th>_NET_WEIGHT</th>\n",
       "      <th>_ROOM</th>\n",
       "      <th>_SUB_GROUP</th>\n",
       "      <th>_USAGE</th>\n",
       "      <th>_SIZE</th>\n",
       "      <th>_SUB_USAGE</th>\n",
       "      <th>_DESC_USAGE</th>\n",
       "      <th>_LOC_MAX</th>\n",
       "      <th>_REASON_LOCK</th>\n",
       "      <th>EXTERNAL_ORDER_NUMBER</th>\n",
       "    </tr>\n",
       "  </thead>\n",
       "  <tbody>\n",
       "    <tr>\n",
       "      <th>0</th>\n",
       "      <td>2024-01-31 00:42:51</td>\n",
       "      <td>CITRA DIMENSI ARTHALI</td>\n",
       "      <td>25090801</td>\n",
       "      <td>1267899</td>\n",
       "      <td>CDA-110201</td>\n",
       "      <td>TEMAN LAUT BASO UDANG 500GR (12PAK/CTN)       ...</td>\n",
       "      <td>PAK</td>\n",
       "      <td>1</td>\n",
       "      <td>12</td>\n",
       "      <td>756</td>\n",
       "      <td>...</td>\n",
       "      <td>0.5</td>\n",
       "      <td>FR</td>\n",
       "      <td>N/A</td>\n",
       "      <td>Reserve</td>\n",
       "      <td>1 Pallet</td>\n",
       "      <td>N/A</td>\n",
       "      <td>Not Applicable</td>\n",
       "      <td>30240000</td>\n",
       "      <td></td>\n",
       "      <td>IT#2401-00384</td>\n",
       "    </tr>\n",
       "    <tr>\n",
       "      <th>1</th>\n",
       "      <td>2024-01-31 00:42:51</td>\n",
       "      <td>CITRA DIMENSI ARTHALI</td>\n",
       "      <td>28060704</td>\n",
       "      <td>1267899</td>\n",
       "      <td>CDA-110201</td>\n",
       "      <td>TEMAN LAUT BASO UDANG 500GR (12PAK/CTN)       ...</td>\n",
       "      <td>PAK</td>\n",
       "      <td>1</td>\n",
       "      <td>12</td>\n",
       "      <td>756</td>\n",
       "      <td>...</td>\n",
       "      <td>0.5</td>\n",
       "      <td>FR</td>\n",
       "      <td>N/A</td>\n",
       "      <td>Reserve</td>\n",
       "      <td>1 Pallet</td>\n",
       "      <td>N/A</td>\n",
       "      <td>Not Applicable</td>\n",
       "      <td>30240000</td>\n",
       "      <td></td>\n",
       "      <td>IT#2401-00402</td>\n",
       "    </tr>\n",
       "    <tr>\n",
       "      <th>2</th>\n",
       "      <td>2024-01-31 00:42:51</td>\n",
       "      <td>CITRA DIMENSI ARTHALI</td>\n",
       "      <td>28070101</td>\n",
       "      <td>1267899</td>\n",
       "      <td>CDA-110201</td>\n",
       "      <td>TEMAN LAUT BASO UDANG 500GR (12PAK/CTN)       ...</td>\n",
       "      <td>PAK</td>\n",
       "      <td>1</td>\n",
       "      <td>12</td>\n",
       "      <td>756</td>\n",
       "      <td>...</td>\n",
       "      <td>0.5</td>\n",
       "      <td>FR</td>\n",
       "      <td>N/A</td>\n",
       "      <td>Picking</td>\n",
       "      <td>1 Pallet</td>\n",
       "      <td>N/A</td>\n",
       "      <td>Not Applicable</td>\n",
       "      <td>30240000</td>\n",
       "      <td></td>\n",
       "      <td>IT#2401-00370</td>\n",
       "    </tr>\n",
       "    <tr>\n",
       "      <th>3</th>\n",
       "      <td>2024-01-31 00:42:51</td>\n",
       "      <td>CITRA DIMENSI ARTHALI</td>\n",
       "      <td>28070101</td>\n",
       "      <td>1267899</td>\n",
       "      <td>CDA-110201</td>\n",
       "      <td>TEMAN LAUT BASO UDANG 500GR (12PAK/CTN)       ...</td>\n",
       "      <td>PAK</td>\n",
       "      <td>1</td>\n",
       "      <td>12</td>\n",
       "      <td>756</td>\n",
       "      <td>...</td>\n",
       "      <td>0.5</td>\n",
       "      <td>FR</td>\n",
       "      <td>N/A</td>\n",
       "      <td>Picking</td>\n",
       "      <td>1 Pallet</td>\n",
       "      <td>N/A</td>\n",
       "      <td>Not Applicable</td>\n",
       "      <td>30240000</td>\n",
       "      <td></td>\n",
       "      <td>IT#2401-00384</td>\n",
       "    </tr>\n",
       "    <tr>\n",
       "      <th>4</th>\n",
       "      <td>2024-01-31 00:42:51</td>\n",
       "      <td>CITRA DIMENSI ARTHALI</td>\n",
       "      <td>28080603</td>\n",
       "      <td>1267899</td>\n",
       "      <td>CDA-110201</td>\n",
       "      <td>TEMAN LAUT BASO UDANG 500GR (12PAK/CTN)       ...</td>\n",
       "      <td>PAK</td>\n",
       "      <td>1</td>\n",
       "      <td>12</td>\n",
       "      <td>756</td>\n",
       "      <td>...</td>\n",
       "      <td>0.5</td>\n",
       "      <td>FR</td>\n",
       "      <td>N/A</td>\n",
       "      <td>Reserve</td>\n",
       "      <td>1 Pallet</td>\n",
       "      <td>N/A</td>\n",
       "      <td>Not Applicable</td>\n",
       "      <td>30240000</td>\n",
       "      <td></td>\n",
       "      <td>IT#2401-00402</td>\n",
       "    </tr>\n",
       "  </tbody>\n",
       "</table>\n",
       "<p>5 rows × 38 columns</p>\n",
       "</div>"
      ],
      "text/plain": [
       "           TGL_IMPORT                          _GROUP  _LOCATION  _PLU_VTL  \\\n",
       "0 2024-01-31 00:42:51  CITRA DIMENSI ARTHALI           25090801    1267899   \n",
       "1 2024-01-31 00:42:51  CITRA DIMENSI ARTHALI           28060704    1267899   \n",
       "2 2024-01-31 00:42:51  CITRA DIMENSI ARTHALI           28070101    1267899   \n",
       "3 2024-01-31 00:42:51  CITRA DIMENSI ARTHALI           28070101    1267899   \n",
       "4 2024-01-31 00:42:51  CITRA DIMENSI ARTHALI           28080603    1267899   \n",
       "\n",
       "                         _PLU_CUST  \\\n",
       "0  CDA-110201                        \n",
       "1  CDA-110201                        \n",
       "2  CDA-110201                        \n",
       "3  CDA-110201                        \n",
       "4  CDA-110201                        \n",
       "\n",
       "                                        _DESCRIPTION    _UNIT  _PACK  CF  \\\n",
       "0  TEMAN LAUT BASO UDANG 500GR (12PAK/CTN)       ...  PAK          1  12   \n",
       "1  TEMAN LAUT BASO UDANG 500GR (12PAK/CTN)       ...  PAK          1  12   \n",
       "2  TEMAN LAUT BASO UDANG 500GR (12PAK/CTN)       ...  PAK          1  12   \n",
       "3  TEMAN LAUT BASO UDANG 500GR (12PAK/CTN)       ...  PAK          1  12   \n",
       "4  TEMAN LAUT BASO UDANG 500GR (12PAK/CTN)       ...  PAK          1  12   \n",
       "\n",
       "   _F_PALLET  ...  _NET_WEIGHT   _ROOM  _SUB_GROUP      _USAGE  \\\n",
       "0        756  ...          0.5  FR           N/A    Reserve      \n",
       "1        756  ...          0.5  FR           N/A    Reserve      \n",
       "2        756  ...          0.5  FR           N/A    Picking      \n",
       "3        756  ...          0.5  FR           N/A    Picking      \n",
       "4        756  ...          0.5  FR           N/A    Reserve      \n",
       "\n",
       "                  _SIZE  _SUB_USAGE                     _DESC_USAGE  _LOC_MAX  \\\n",
       "0  1 Pallet                N/A       Not Applicable                  30240000   \n",
       "1  1 Pallet                N/A       Not Applicable                  30240000   \n",
       "2  1 Pallet                N/A       Not Applicable                  30240000   \n",
       "3  1 Pallet                N/A       Not Applicable                  30240000   \n",
       "4  1 Pallet                N/A       Not Applicable                  30240000   \n",
       "\n",
       "                     _REASON_LOCK EXTERNAL_ORDER_NUMBER  \n",
       "0                                  IT#2401-00384         \n",
       "1                                  IT#2401-00402         \n",
       "2                                  IT#2401-00370         \n",
       "3                                  IT#2401-00384         \n",
       "4                                  IT#2401-00402         \n",
       "\n",
       "[5 rows x 38 columns]"
      ]
     },
     "execution_count": 10,
     "metadata": {},
     "output_type": "execute_result"
    }
   ],
   "source": [
    "df.head()"
   ]
  },
  {
   "cell_type": "code",
   "execution_count": 11,
   "metadata": {},
   "outputs": [
    {
     "data": {
      "text/plain": [
       "Index(['tgl_import', 'group', 'location', 'plu_vtl', 'plu_cust', 'description',\n",
       "       'unit', 'pack', 'cf', 'f_pallet', 'soh', 's_ava', 'comm', 'soh_car',\n",
       "       's_ava_car', 'comm_car', 'soh_kg', 's_ava_kg', 'comm_kg', 'lot',\n",
       "       'transc', 'reff', 'exp_date', 'whs', 'category', 'mpa_group', 'batch',\n",
       "       'gross_weight', 'net_weight', 'room', 'sub_group', 'usage', 'size',\n",
       "       'sub_usage', 'desc_usage', 'loc_max', 'reason_lock',\n",
       "       'external_order_number'],\n",
       "      dtype='object')"
      ]
     },
     "execution_count": 11,
     "metadata": {},
     "output_type": "execute_result"
    }
   ],
   "source": [
    "column_mapping = {\n",
    "    'TGL_IMPORT': 'tgl_import',\n",
    "    '_GROUP': 'group',\n",
    "    '_LOCATION': 'location',\n",
    "    '_PLU_VTL': 'plu_vtl',\n",
    "    '_PLU_CUST': 'plu_cust',\n",
    "    '_DESCRIPTION': 'description',\n",
    "    '_UNIT': 'unit',\n",
    "    '_PACK': 'pack',\n",
    "    'CF': 'cf',\n",
    "    '_F_PALLET': 'f_pallet',\n",
    "    'SOH': 'soh',\n",
    "    '_S_AVA': 's_ava',\n",
    "    '_COMM': 'comm',\n",
    "    'SOH_CAR': 'soh_car',\n",
    "    '_S_AVA_CAR': 's_ava_car',\n",
    "    '_COMM_CAR': 'comm_car',\n",
    "    'SOH_KG': 'soh_kg',\n",
    "    '_S_AVA_KG': 's_ava_kg',\n",
    "    '_COMM_KG': 'comm_kg',\n",
    "    '_LOT': 'lot',\n",
    "    '_TRANSC': 'transc',\n",
    "    '_REFF': 'reff',\n",
    "    '_EXP_DATE': 'exp_date',\n",
    "    '_WHS': 'whs',\n",
    "    '_CATEGORY': 'category',\n",
    "    '_MPA_GROUP': 'mpa_group',\n",
    "    'BATCH': 'batch',\n",
    "    '_GROSS_WEIGHT': 'gross_weight',\n",
    "    '_NET_WEIGHT': 'net_weight',\n",
    "    '_ROOM': 'room',\n",
    "    '_SUB_GROUP': 'sub_group',\n",
    "    '_USAGE': 'usage',\n",
    "    '_SIZE': 'size',\n",
    "    '_SUB_USAGE': 'sub_usage',\n",
    "    '_DESC_USAGE': 'desc_usage',\n",
    "    '_LOC_MAX': 'loc_max',\n",
    "    '_REASON_LOCK': 'reason_lock',\n",
    "    'EXTERNAL_ORDER_NUMBER': 'external_order_number'\n",
    "}\n",
    "\n",
    "# Melakukan renaming kolom berdasarkan mapping yang telah dibuat\n",
    "df.rename(columns=column_mapping, inplace=True)\n",
    "df.columns"
   ]
  },
  {
   "cell_type": "markdown",
   "id": "af57aee0",
   "metadata": {},
   "source": [
    "upload data forom ftp to postgres"
   ]
  },
  {
   "cell_type": "code",
   "execution_count": 13,
   "id": "dc40a7ee",
   "metadata": {},
   "outputs": [
    {
     "name": "stdout",
     "output_type": "stream",
     "text": [
      "Data uploaded to PostgreSQL table 'stock_ka_location_history' successfully.\n"
     ]
    }
   ],
   "source": [
    "from ftplib import FTP\n",
    "from io import BytesIO\n",
    "import pandas as pd\n",
    "from sqlalchemy import create_engine\n",
    "\n",
    "# Establish a connection to PostgreSQL\n",
    "pg_connection_str = f\"postgresql+psycopg2://{pg_user}:{pg_password}@{pg_host}:{pg_port}/{pg_database}\"\n",
    "engine = create_engine(pg_connection_str)\n",
    "\n",
    "# Insert DataFrame into PostgreSQL\n",
    "table_name = 'stock_ka_location_history'  # Replace with your actual table name\n",
    "df.to_sql(table_name, engine, if_exists='append', index=False)\n",
    "\n",
    "print(f\"Data uploaded to PostgreSQL table '{table_name}' successfully.\")"
   ]
  },
  {
   "cell_type": "code",
   "execution_count": null,
   "id": "6c88485d",
   "metadata": {},
   "outputs": [],
   "source": [
    "# # if you have much data\n",
    "# file_list = [\n",
    "#     'STOCKM_C011_20240126.xlsx',\n",
    "#     'STOCKM_C011_20240127.xlsx',\n",
    "#     'STOCKM_C011_20240128.xlsx',\n",
    "#     'STOCKM_C011_20240129.xlsx'\n",
    "# ]\n",
    "\n",
    "# filtered_files = [file for file in file_list if any(name in file for name in file_list)]\n",
    "\n",
    "# print(f\"Filtered Files in '{target_folder}': {filtered_files}\")"
   ]
  },
  {
   "cell_type": "code",
   "execution_count": 16,
   "id": "d7601b10",
   "metadata": {},
   "outputs": [
    {
     "name": "stdout",
     "output_type": "stream",
     "text": [
      "Distinct tgl_import dates:\n",
      "2024-01-31\n"
     ]
    }
   ],
   "source": [
    "# Establish a connection to PostgreSQL\n",
    "connection_str = f\"dbname={pg_database} user={pg_user} password={pg_password} host={pg_host} port={pg_port}\"\n",
    "conn = psycopg2.connect(connection_str)\n",
    "\n",
    "# Create a cursor\n",
    "cursor = conn.cursor()\n",
    "\n",
    "# Execute SQL query to get distinct tgl_import dates\n",
    "cursor.execute(\"SELECT DISTINCT tgl_import::date FROM stock_ka_location_history where tgl_import >= current_date\")\n",
    "\n",
    "# Fetch the results\n",
    "distinct_dates = cursor.fetchall()\n",
    "\n",
    "# Print the results\n",
    "print(\"Distinct tgl_import dates:\")\n",
    "for date in distinct_dates:\n",
    "    print(date[0])"
   ]
  },
  {
   "cell_type": "markdown",
   "id": "e118c6f9",
   "metadata": {},
   "source": [
    "Find missing dates"
   ]
  },
  {
   "cell_type": "code",
   "execution_count": 79,
   "id": "2d9bd3a3",
   "metadata": {},
   "outputs": [
    {
     "name": "stdout",
     "output_type": "stream",
     "text": [
      "Missing dates:\n"
     ]
    }
   ],
   "source": [
    "from datetime import timedelta, date\n",
    "\n",
    "# Define the start and end dates of the range\n",
    "start_date = date(2024, 1, 20)\n",
    "end_date = date(2024, 1, 30)\n",
    "\n",
    "# Generate a list of dates within the range\n",
    "all_dates = [start_date + timedelta(days=x) for x in range((end_date - start_date).days + 1)]\n",
    "\n",
    "# Extract distinct dates from the SQL query results\n",
    "distinct_dates = [date[0] for date in distinct_dates]\n",
    "\n",
    "# Find the missing dates\n",
    "missing_dates = set(all_dates) - set(distinct_dates)\n",
    "\n",
    "# Print the missing dates\n",
    "print(\"Missing dates:\")\n",
    "for missing_date in sorted(missing_dates):\n",
    "        print(missing_date)\n",
    "\n",
    "    # if missing_date == True:\n",
    "    # else:        \n",
    "    #     print(\"is nothing\")\n"
   ]
  },
  {
   "cell_type": "code",
   "execution_count": null,
   "id": "9b970a1c",
   "metadata": {},
   "outputs": [],
   "source": [
    "# Get today's date\n",
    "today_date = date.today()\n",
    "# day = date.current_date\n",
    "\n",
    "# Define the SQL statement to create the view soh_master_today\n",
    "create_view_sql = f\"\"\"\n",
    "CREATE OR REPLACE VIEW soh_master_today AS\n",
    "SELECT *\n",
    "FROM soh_master\n",
    "WHERE tgl_import::date = '{today_date}';\n",
    "\"\"\"\n",
    "\n",
    "# Execute the SQL statement to create the view\n",
    "cursor.execute(create_view_sql)\n",
    "\n",
    "# Define the SQL statement to create a connection between soh_master and soh_master_today\n",
    "create_connection_sql = \"\"\"\n",
    "CREATE OR REPLACE VIEW soh_master_with_today_data AS\n",
    "SELECT m.*, t.*\n",
    "FROM soh_master as m\n",
    "JOIN soh_master_today as t ON m.common_key = t.common_key;\n",
    "\"\"\"\n",
    "\n",
    "# Execute the SQL statement to create the connection\n",
    "cursor.execute(create_connection_sql)\n",
    "\n",
    "# Commit the changes\n",
    "conn.commit()"
   ]
  },
  {
   "cell_type": "code",
   "execution_count": 56,
   "id": "267a0165",
   "metadata": {},
   "outputs": [
    {
     "data": {
      "text/plain": [
       "'221 Goodbye!'"
      ]
     },
     "execution_count": 56,
     "metadata": {},
     "output_type": "execute_result"
    }
   ],
   "source": [
    "ftp.quit()"
   ]
  },
  {
   "cell_type": "code",
   "execution_count": null,
   "id": "2c7bfbd1",
   "metadata": {},
   "outputs": [],
   "source": []
  },
  {
   "cell_type": "code",
   "execution_count": null,
   "id": "3774d55e",
   "metadata": {},
   "outputs": [],
   "source": []
  },
  {
   "cell_type": "code",
   "execution_count": null,
   "id": "c5edc90e",
   "metadata": {},
   "outputs": [],
   "source": []
  },
  {
   "cell_type": "code",
   "execution_count": null,
   "id": "927cf740",
   "metadata": {},
   "outputs": [],
   "source": []
  },
  {
   "cell_type": "code",
   "execution_count": null,
   "id": "45936192",
   "metadata": {},
   "outputs": [],
   "source": []
  },
  {
   "cell_type": "code",
   "execution_count": null,
   "id": "bbc1e1b0",
   "metadata": {},
   "outputs": [],
   "source": [
    "def extract_date_from_file_name(file_list):\n",
    "    match = re.search(r'_(\\d{8})\\.xlsx', file_list)\n",
    "    if match:\n",
    "        date_str = match.group(1)\n",
    "        # formatted_date = pd.to_datetime(date_str, format='%Y%m%d').strftime('%Y-%m-%d')\n",
    "        # return formatted_date\n",
    "        return pd.to_datetime(date_str, format='%Y%m%d')\n",
    "    else:\n",
    "        return None\n"
   ]
  },
  {
   "cell_type": "code",
   "execution_count": 81,
   "id": "18bd11a6",
   "metadata": {},
   "outputs": [
    {
     "data": {
      "text/plain": [
       "'221 Goodbye!'"
      ]
     },
     "execution_count": 81,
     "metadata": {},
     "output_type": "execute_result"
    }
   ],
   "source": [
    "ftp.quit()"
   ]
  }
 ],
 "metadata": {
  "kernelspec": {
   "display_name": "Python 3 (ipykernel)",
   "language": "python",
   "name": "python3"
  },
  "language_info": {
   "codemirror_mode": {
    "name": "ipython",
    "version": 3
   },
   "file_extension": ".py",
   "mimetype": "text/x-python",
   "name": "python",
   "nbconvert_exporter": "python",
   "pygments_lexer": "ipython3",
   "version": "3.12.0"
  }
 },
 "nbformat": 4,
 "nbformat_minor": 5
}
